{
  "nbformat": 4,
  "nbformat_minor": 0,
  "metadata": {
    "colab": {
      "provenance": [],
      "authorship_tag": "ABX9TyMvMuLF8jgwyMcRks+8lhpL",
      "include_colab_link": true
    },
    "kernelspec": {
      "name": "python3",
      "display_name": "Python 3"
    },
    "language_info": {
      "name": "python"
    }
  },
  "cells": [
    {
      "cell_type": "markdown",
      "metadata": {
        "id": "view-in-github",
        "colab_type": "text"
      },
      "source": [
        "<a href=\"https://colab.research.google.com/github/Anu0907/Python/blob/main/Basic%20Programs%20-%206.ipynb\" target=\"_parent\"><img src=\"https://colab.research.google.com/assets/colab-badge.svg\" alt=\"Open In Colab\"/></a>"
      ]
    },
    {
      "cell_type": "markdown",
      "source": [
        "### **51. Program to print alphabetical positions of given string**"
      ],
      "metadata": {
        "id": "gONb7iLeaoIN"
      }
    },
    {
      "cell_type": "code",
      "execution_count": 1,
      "metadata": {
        "colab": {
          "base_uri": "https://localhost:8080/"
        },
        "id": "Z_-or_3DYsUc",
        "outputId": "2bd7fb33-dab2-4ea9-9b3a-aba24b871819"
      },
      "outputs": [
        {
          "output_type": "stream",
          "name": "stdout",
          "text": [
            "Enter the text without spaces: Pythonprogram\n",
            "Alphabet numbers are: \n",
            "16 25 20 8 15 14 16 18 15 7 18 1 13 "
          ]
        }
      ],
      "source": [
        "n = input(\"Enter the text without spaces: \")\n",
        "m = []\n",
        "\n",
        "for i in range(ord('a'),ord('z')+1):\n",
        "  m.append(i)\n",
        "print(\"Alphabet numbers are: \")\n",
        "\n",
        "for i in n.lower():\n",
        "  print(m.index(ord(i))+1, end=\" \")"
      ]
    },
    {
      "cell_type": "markdown",
      "source": [
        "### **52. Program to print christmas tree for the given input**"
      ],
      "metadata": {
        "id": "6rDaqab_epzu"
      }
    },
    {
      "cell_type": "code",
      "source": [
        "num = int(input(\"Enter the input: \"))\n",
        "\n",
        "for i in range(num+1):\n",
        "  print(('*'*i).center(50))\n",
        "\n",
        "for i in range(2,num+2):\n",
        "  print(('*'*i).center(50))\n",
        "\n",
        "for i in range(3,num+3):\n",
        "  print(('*'*i).center(50))\n",
        "\n",
        "for i in range(num):\n",
        "  print(('*'*3).center(50))"
      ],
      "metadata": {
        "colab": {
          "base_uri": "https://localhost:8080/"
        },
        "id": "0jbqBjSOfC7o",
        "outputId": "83cb1c1f-0978-4432-b7c9-00019dad8fba"
      },
      "execution_count": 2,
      "outputs": [
        {
          "output_type": "stream",
          "name": "stdout",
          "text": [
            "Enter the input: 5\n",
            "                                                  \n",
            "                        *                         \n",
            "                        **                        \n",
            "                       ***                        \n",
            "                       ****                       \n",
            "                      *****                       \n",
            "                        **                        \n",
            "                       ***                        \n",
            "                       ****                       \n",
            "                      *****                       \n",
            "                      ******                      \n",
            "                       ***                        \n",
            "                       ****                       \n",
            "                      *****                       \n",
            "                      ******                      \n",
            "                     *******                      \n",
            "                       ***                        \n",
            "                       ***                        \n",
            "                       ***                        \n",
            "                       ***                        \n",
            "                       ***                        \n"
          ]
        }
      ]
    },
    {
      "cell_type": "markdown",
      "source": [
        "### **53. Program to print number of times a substring present in a string**"
      ],
      "metadata": {
        "id": "JqhwAoIthUMp"
      }
    },
    {
      "cell_type": "code",
      "source": [
        "def count_substring(string, substring):\n",
        "  count = 0\n",
        "  \n",
        "  for i in range(len(string)):\n",
        "    s = []\n",
        "    for j in range(i,len(substring)+i):\n",
        "      if j==len(string):\n",
        "        break\n",
        "      s.append(string[j])\n",
        "\n",
        "      if substring==''.join(s):\n",
        "        count+=1\n",
        "  return count\n",
        "\n",
        "s = input(\"Enter the string: \").strip()\n",
        "substr = input(\"Enter the sub string: \").strip()\n",
        "count = count_substring(s, substr)\n",
        "print(count)"
      ],
      "metadata": {
        "colab": {
          "base_uri": "https://localhost:8080/"
        },
        "id": "oX2m2_sifDwK",
        "outputId": "4c277081-9a83-445b-ddbb-eccb23922313"
      },
      "execution_count": 3,
      "outputs": [
        {
          "output_type": "stream",
          "name": "stdout",
          "text": [
            "Enter the string: Pythononon\n",
            "Enter the sub string: ono\n",
            "2\n"
          ]
        }
      ]
    },
    {
      "cell_type": "markdown",
      "source": [
        "### **54. Program to print sum of even numbers, sum of odd numbers, sum of prime numbers in a given number**"
      ],
      "metadata": {
        "id": "xMwN71BIi7rO"
      }
    },
    {
      "cell_type": "code",
      "source": [
        "n = int(input(\"Enter the number: \"))\n",
        "even = 0\n",
        "odd = 0\n",
        "prime = 0\n",
        "\n",
        "def isprime(x):\n",
        "  count = 0\n",
        "  for i in range(1,x+1):\n",
        "    if(x%i)==0:\n",
        "      count+=1\n",
        "  if count==2:\n",
        "    return x\n",
        "\n",
        "while(n>0):\n",
        "  r = n%10\n",
        "  n = n//10\n",
        "  if r%2==0:\n",
        "    even=even+r\n",
        "  else:\n",
        "    odd=odd+r\n",
        "  if isprime(r):\n",
        "    prime=prime+r\n",
        "\n",
        "print(\"Sum of Even Numbers:{0}\\nSum of Odd Numbers:{1}\\nSum of Prime Numbers:{2}\".format(even,odd,prime))"
      ],
      "metadata": {
        "colab": {
          "base_uri": "https://localhost:8080/"
        },
        "id": "iacBFxh8jN-z",
        "outputId": "0f4180ad-b4f1-48f1-987a-b0bec089e1ba"
      },
      "execution_count": 4,
      "outputs": [
        {
          "output_type": "stream",
          "name": "stdout",
          "text": [
            "Enter the number: 1548321\n",
            "Sum of Even Numbers:14\n",
            "Sum of Odd Numbers:10\n",
            "Sum of Prime Numbers:10\n"
          ]
        }
      ]
    },
    {
      "cell_type": "markdown",
      "source": [
        "### **55. Find the given braces are balanced or not**"
      ],
      "metadata": {
        "id": "nQMvLtCwmMDo"
      }
    },
    {
      "cell_type": "code",
      "source": [
        "a = input(\"Enter any braces: \")\n",
        "s = 0\n",
        "s1 = 0\n",
        "s2 = 0\n",
        "\n",
        "for i in range(len(a)):\n",
        "  if a[i]=='(' or a[i]==')':\n",
        "     s=a.count('(')-a.count(')')\n",
        "  if a[i]=='[' or a[i]==']':\n",
        "     s=a.count('[')-a.count(']')\n",
        "  if a[i]=='{' or a[i]=='}':\n",
        "     s=a.count('{')-a.count('}')  \n",
        "\n",
        "if(s==s1==s2):\n",
        "  print(\"Braces are balanced\")\n",
        "else:\n",
        "  print(\"Braces are not balanced in place(s) of \",abs(s)+abs(s1)+abs(s2))"
      ],
      "metadata": {
        "colab": {
          "base_uri": "https://localhost:8080/"
        },
        "id": "R3wvcXg4nwKa",
        "outputId": "cbe019a6-d609-4814-f087-49d7347249fb"
      },
      "execution_count": 5,
      "outputs": [
        {
          "output_type": "stream",
          "name": "stdout",
          "text": [
            "Enter any braces: []({}{[]()})[({()})]\n",
            "Braces are balanced\n"
          ]
        }
      ]
    },
    {
      "cell_type": "markdown",
      "source": [
        "### **56. Python Program to print pattern**"
      ],
      "metadata": {
        "id": "PuaBhBxgqArN"
      }
    },
    {
      "cell_type": "code",
      "source": [
        "n = int(input(\"Enter the value: \"))\n",
        "\n",
        "for i in range(1,n+1):\n",
        "  print(\"\"*(n-i),end='')\n",
        "  for j in range(1,i+1):\n",
        "    print((n-i)+j,end='')\n",
        "  for k in range(2,i+1):\n",
        "    print((n+1)-k,end='')\n",
        "  print()\n",
        "\n",
        "for i in range(1,n+1):\n",
        "  print(''*i,end='')\n",
        "  for j in range(1+i,n+1):\n",
        "    print(j,end='')\n",
        "  for k in range(n-1,i,-1):\n",
        "    print(k,end='')\n",
        "  print()"
      ],
      "metadata": {
        "id": "9XiXrL10nsd_",
        "colab": {
          "base_uri": "https://localhost:8080/"
        },
        "outputId": "cbd14094-00a7-4ce0-e8a8-3f4e11795765"
      },
      "execution_count": 6,
      "outputs": [
        {
          "output_type": "stream",
          "name": "stdout",
          "text": [
            "Enter the value: 10\n",
            "10\n",
            "9109\n",
            "891098\n",
            "78910987\n",
            "6789109876\n",
            "567891098765\n",
            "45678910987654\n",
            "3456789109876543\n",
            "234567891098765432\n",
            "12345678910987654321\n",
            "234567891098765432\n",
            "3456789109876543\n",
            "45678910987654\n",
            "567891098765\n",
            "6789109876\n",
            "78910987\n",
            "891098\n",
            "9109\n",
            "10\n",
            "\n"
          ]
        }
      ]
    },
    {
      "cell_type": "markdown",
      "source": [
        "### **57. Python Program to print pattern**"
      ],
      "metadata": {
        "id": "XZXdpRyuruOw"
      }
    },
    {
      "cell_type": "code",
      "source": [
        "n = int(input(\"Enter the value: \"))\n",
        "m = 1\n",
        "\n",
        "for i in range(1,n):\n",
        "  for j in range(1,i+1):\n",
        "    print(m,end='')\n",
        "    if j!=i:\n",
        "      print('*',end='')\n",
        "    m+=1\n",
        "  print()\n",
        "\n",
        "m-=n-1\n",
        "temp=m\n",
        "\n",
        "for i in range(n,1,-1):\n",
        "  for j in range(1,i):\n",
        "    print(temp,end='')\n",
        "    if(j!=i-1):\n",
        "      print('*',end='')\n",
        "    temp+=1\n",
        "  m-=(i-2)\n",
        "  temp=m\n",
        "  print()"
      ],
      "metadata": {
        "colab": {
          "base_uri": "https://localhost:8080/"
        },
        "id": "2cRrejEOsAjh",
        "outputId": "d56d22b8-82e8-4ee9-9b45-fdf0f3aa6d57"
      },
      "execution_count": 7,
      "outputs": [
        {
          "output_type": "stream",
          "name": "stdout",
          "text": [
            "Enter the value: 6\n",
            "1\n",
            "2*3\n",
            "4*5*6\n",
            "7*8*9*10\n",
            "11*12*13*14*15\n",
            "11*12*13*14*15\n",
            "7*8*9*10\n",
            "4*5*6\n",
            "2*3\n",
            "1\n"
          ]
        }
      ]
    },
    {
      "cell_type": "markdown",
      "source": [
        "### **58. Take a list of integers from user, print 1st half of list in ascending order and another half of list in descending order**"
      ],
      "metadata": {
        "id": "pwv958UFtTT0"
      }
    },
    {
      "cell_type": "code",
      "source": [
        "a = list(map(int,input(\"Enter the elements with comma:\").split(',')))\n",
        "x = []\n",
        "y = []\n",
        "b = int(len(a)/2)\n",
        "\n",
        "for i in range(b):\n",
        "  x.append(a[i])\n",
        "for i in range(len(x)-1):\n",
        "  min_val = min(x[i:])\n",
        "  min_ind = x.index(min_val,i)\n",
        "  x[i],x[min_ind] = x[min_ind],x[i]\n",
        "\n",
        "for i in range(b,len(a)):\n",
        "  y.append(a[i])\n",
        "for i in range(len(y)-1):\n",
        "  max_val = max(y[i:])\n",
        "  max_ind = y.index(max_val,i)\n",
        "  y[i],y[max_ind] = y[max_ind],y[i]\n",
        "for i in range(len(y)):\n",
        "  x.append(y[i])\n",
        "print(x)"
      ],
      "metadata": {
        "id": "vfSGrAM7t2iY",
        "colab": {
          "base_uri": "https://localhost:8080/"
        },
        "outputId": "f2356b3a-ccd5-4253-938e-fec370b23ae4"
      },
      "execution_count": 8,
      "outputs": [
        {
          "output_type": "stream",
          "name": "stdout",
          "text": [
            "Enter the elements with comma:2,6,9,8,4,1,5,9,7,4\n",
            "[2, 4, 6, 8, 9, 9, 7, 5, 4, 1]\n"
          ]
        }
      ]
    },
    {
      "cell_type": "markdown",
      "source": [
        "### **59. Print nth sum of series** 1+2+6+24+120+720+...n"
      ],
      "metadata": {
        "id": "x1AeD-hQUrf_"
      }
    },
    {
      "cell_type": "code",
      "source": [
        "def fact(x):\n",
        "  product = 1\n",
        "  for i in range(1,x+1):\n",
        "    product*=i\n",
        "  return product\n",
        "\n",
        "n = int(input(\"Enter the nth value: \"))\n",
        "sum = 0\n",
        "for i in range(1,n+1):\n",
        "  sum = sum+fact(i)\n",
        "print(\"Sum of given range of series: \",sum)"
      ],
      "metadata": {
        "colab": {
          "base_uri": "https://localhost:8080/"
        },
        "id": "6wzWHWqRUsLs",
        "outputId": "1e37c0e0-a3d9-4499-e1d1-284e4c72b97e"
      },
      "execution_count": 9,
      "outputs": [
        {
          "output_type": "stream",
          "name": "stdout",
          "text": [
            "Enter the nth value: 9\n",
            "Sum of given range of series:  409113\n"
          ]
        }
      ]
    },
    {
      "cell_type": "markdown",
      "source": [
        "### **60. Program to replace each letter in a message with its corresponding letter in a backward version of the english alphabet**"
      ],
      "metadata": {
        "id": "7DlpXWMMVn4i"
      }
    },
    {
      "cell_type": "code",
      "source": [
        "a = input(\"Enter the string: \").lower()\n",
        "b = []\n",
        "for i in range(ord('a'),ord('z')+1):\n",
        "  b.append(chr(i))\n",
        "\n",
        "c = []\n",
        "for i in a:\n",
        "  if i in b:\n",
        "    if b.index(i)==0:\n",
        "      c.append(b[-(b.index(i)+1)])\n",
        "    else:\n",
        "      c.append(b[-(b.index(i)+1)])\n",
        "  else:\n",
        "    if i=='':\n",
        "      c.append('')\n",
        "print(\"Output:\",''.join(c))"
      ],
      "metadata": {
        "colab": {
          "base_uri": "https://localhost:8080/"
        },
        "id": "Plu8sqYsVoej",
        "outputId": "93123f29-9e2a-478e-dcb4-47add31e393e"
      },
      "execution_count": 10,
      "outputs": [
        {
          "output_type": "stream",
          "name": "stdout",
          "text": [
            "Enter the string: Python program\n",
            "Output: kbgslmkiltizn\n"
          ]
        }
      ]
    }
  ]
}