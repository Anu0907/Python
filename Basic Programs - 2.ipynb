{
  "nbformat": 4,
  "nbformat_minor": 0,
  "metadata": {
    "colab": {
      "provenance": [],
      "collapsed_sections": []
    },
    "kernelspec": {
      "name": "python3",
      "display_name": "Python 3"
    },
    "language_info": {
      "name": "python"
    }
  },
  "cells": [
    {
      "cell_type": "markdown",
      "source": [
        "### **11. Conversion of decimal to binary**"
      ],
      "metadata": {
        "id": "2ozB3zYPnWNZ"
      }
    },
    {
      "cell_type": "code",
      "execution_count": 1,
      "metadata": {
        "colab": {
          "base_uri": "https://localhost:8080/"
        },
        "id": "B1wapPBCnHBB",
        "outputId": "f762fc8f-31c9-4af5-9082-dd7f847180a5"
      },
      "outputs": [
        {
          "output_type": "stream",
          "name": "stdout",
          "text": [
            "Enter decimal value:12\n",
            "Binary value for given decimal number is: 1100\n"
          ]
        }
      ],
      "source": [
        "n = int(input(\"Enter decimal value:\"))\n",
        "\n",
        "def decimaltobinary(x):\n",
        "  i=1\n",
        "  binary=0\n",
        "  while(x>0):\n",
        "    remainder=x%2\n",
        "    x=x//2\n",
        "    binary=binary+remainder*i\n",
        "    i*=10\n",
        "  return binary\n",
        "\n",
        "print(\"Binary value for given decimal number is:\", decimaltobinary(n))"
      ]
    },
    {
      "cell_type": "markdown",
      "source": [
        "### **12. Print ASCII value for a given character or symbol**"
      ],
      "metadata": {
        "id": "XISfzkCBol6d"
      }
    },
    {
      "cell_type": "code",
      "source": [
        "a = input('Enter a character:')\n",
        "print(ord(a))"
      ],
      "metadata": {
        "colab": {
          "base_uri": "https://localhost:8080/"
        },
        "id": "FnIcMYwSogpi",
        "outputId": "efd2f59c-0170-4b57-cb88-ad21ef20b00a"
      },
      "execution_count": 2,
      "outputs": [
        {
          "output_type": "stream",
          "name": "stdout",
          "text": [
            "Enter a character:c\n",
            "99\n"
          ]
        }
      ]
    },
    {
      "cell_type": "markdown",
      "source": [
        "### **13. Factors of a given number**"
      ],
      "metadata": {
        "id": "EQHrJh3Ro5x8"
      }
    },
    {
      "cell_type": "code",
      "source": [
        "x = int(input('Enter a number:'))\n",
        "print(\"Factors of a given number are:\")\n",
        "for i in range(1, x+1):\n",
        "  if(x % i == 0):\n",
        "    print(i)"
      ],
      "metadata": {
        "colab": {
          "base_uri": "https://localhost:8080/"
        },
        "id": "C80Y40h3o1Lk",
        "outputId": "66fa2936-aa4c-4123-d907-05c51b300b17"
      },
      "execution_count": 3,
      "outputs": [
        {
          "output_type": "stream",
          "name": "stdout",
          "text": [
            "Enter a number:45\n",
            "Factors of a given number are:\n",
            "1\n",
            "3\n",
            "5\n",
            "9\n",
            "15\n",
            "45\n"
          ]
        }
      ]
    },
    {
      "cell_type": "markdown",
      "source": [
        "###**14. HCF and LCM of 2 Numbers**"
      ],
      "metadata": {
        "id": "qHWzJF9JpWPb"
      }
    },
    {
      "cell_type": "code",
      "source": [
        "a, b = map(int,input('Enter 2 Numbers: ').split())\n",
        "\n",
        "x = a\n",
        "y = b\n",
        "\n",
        "while(x!=y):\n",
        "  if(x>y):\n",
        "    x=x-y\n",
        "  else:\n",
        "    y=y-x\n",
        "\n",
        "hcf = x\n",
        "lcm = (a * b) // hcf\n",
        "\n",
        "print(\"HCF of\", a, \"&\", b, \"is:\", hcf)\n",
        "print(\"LCM of\", a, \"&\", b, \"is:\", lcm)"
      ],
      "metadata": {
        "colab": {
          "base_uri": "https://localhost:8080/"
        },
        "id": "_gFRTLiYpVR-",
        "outputId": "2bce02ae-8361-4a94-a3c9-6166b4f3d870"
      },
      "execution_count": 4,
      "outputs": [
        {
          "output_type": "stream",
          "name": "stdout",
          "text": [
            "Enter 2 Numbers: 37 45\n",
            "HCF of 37 & 45 is: 1\n",
            "LCM of 37 & 45 is: 1665\n"
          ]
        }
      ]
    },
    {
      "cell_type": "markdown",
      "source": [
        "### **15. Pattern with characters**"
      ],
      "metadata": {
        "id": "R_3tDmVVqnGS"
      }
    },
    {
      "cell_type": "code",
      "source": [
        "n = int(input(\"Enter number of rows:\"))\n",
        "\n",
        "num = 65\n",
        "\n",
        "for i in range(1, n+1):\n",
        "\tfor j in range(0,i):\n",
        "\t\tch = chr(num)\n",
        "\t\tprint(ch, end='')\n",
        "\t\tnum = num + 1\n",
        "\tprint()"
      ],
      "metadata": {
        "colab": {
          "base_uri": "https://localhost:8080/"
        },
        "id": "0ykeMHpgqmPz",
        "outputId": "fe5b0856-73af-4537-802a-06c428cbd2b3"
      },
      "execution_count": 5,
      "outputs": [
        {
          "output_type": "stream",
          "name": "stdout",
          "text": [
            "Enter number of rows:6\n",
            "A\n",
            "BC\n",
            "DEF\n",
            "GHIJ\n",
            "KLMNO\n",
            "PQRSTU\n"
          ]
        }
      ]
    },
    {
      "cell_type": "markdown",
      "source": [
        "### **16. Largest of 6 Numbers**"
      ],
      "metadata": {
        "id": "540WCkbhq62u"
      }
    },
    {
      "cell_type": "code",
      "source": [
        "print('Enter 6 values:')\n",
        "\n",
        "a = []\n",
        "\n",
        "for i in range(6):\n",
        "  a.append(int(input()))\n",
        "\n",
        "a.sort()\n",
        "\n",
        "print(\"Largest of a given numbers is:\", a[5])"
      ],
      "metadata": {
        "colab": {
          "base_uri": "https://localhost:8080/"
        },
        "id": "YllwrNNIq59O",
        "outputId": "696d627d-31ee-4307-9842-9dc9dad89ba6"
      },
      "execution_count": 6,
      "outputs": [
        {
          "output_type": "stream",
          "name": "stdout",
          "text": [
            "Enter 6 values:\n",
            "34\n",
            "78\n",
            "56\n",
            "43\n",
            "21\n",
            "98\n",
            "Largest of a given numbers is: 98\n"
          ]
        }
      ]
    },
    {
      "cell_type": "markdown",
      "source": [
        "### **17. To check whether perfect number or not ie., sum of factors of a given number itself is equal to same number**"
      ],
      "metadata": {
        "id": "zMhNyTY2sB5V"
      }
    },
    {
      "cell_type": "code",
      "source": [
        "n = int(input('Enter the number:'))\n",
        "sum = 0\n",
        "for i in range(1, n):\n",
        "  if(n % i == 0):\n",
        "    sum = sum + i\n",
        "\n",
        "if(n == sum):\n",
        "  print(\"Perfect Number\")\n",
        "else:\n",
        "  print(\"Not a Perfect Number\")"
      ],
      "metadata": {
        "colab": {
          "base_uri": "https://localhost:8080/"
        },
        "id": "_b6cliTirgHX",
        "outputId": "29e51ced-f8d4-4a79-c856-73f2a5bc1096"
      },
      "execution_count": 7,
      "outputs": [
        {
          "output_type": "stream",
          "name": "stdout",
          "text": [
            "Enter the number:496\n",
            "Perfect Number\n"
          ]
        }
      ]
    },
    {
      "cell_type": "markdown",
      "source": [
        "### **18. Addition of Numbers using Fuction**"
      ],
      "metadata": {
        "id": "EBdPGKgmsyuS"
      }
    },
    {
      "cell_type": "code",
      "source": [
        "a,b = map(int,input(\"Enter 2 numbers:\").split())\n",
        "\n",
        "def add(x,y):\n",
        "  return x+y\n",
        "\n",
        "print(\"Addition of 2 numbers are:\", add(a,b))"
      ],
      "metadata": {
        "colab": {
          "base_uri": "https://localhost:8080/"
        },
        "id": "QCbOio47sxgi",
        "outputId": "0cf37e90-abc2-4595-d6be-220b6eaa75da"
      },
      "execution_count": 8,
      "outputs": [
        {
          "output_type": "stream",
          "name": "stdout",
          "text": [
            "Enter 2 numbers:56 78\n",
            "Addition of 2 numbers are: 134\n"
          ]
        }
      ]
    },
    {
      "cell_type": "markdown",
      "source": [
        "### **19. Sum of 'n' numbers using Array or List**"
      ],
      "metadata": {
        "id": "4ROaurp0tmtg"
      }
    },
    {
      "cell_type": "code",
      "source": [
        "n = int(input(\"Enter number of values:\"))\n",
        "\n",
        "a = []\n",
        "sum = 0\n",
        "\n",
        "for i in range(n):\n",
        "  a.append(int(input()))\n",
        "  sum = sum + a[i]\n",
        "\n",
        "print(\"Sum of\", n, \"numbers:\", sum)"
      ],
      "metadata": {
        "colab": {
          "base_uri": "https://localhost:8080/"
        },
        "id": "wHJgOzlqtmBR",
        "outputId": "07fe109e-e4ed-48d2-edf8-2d3da5580f4a"
      },
      "execution_count": 9,
      "outputs": [
        {
          "output_type": "stream",
          "name": "stdout",
          "text": [
            "Enter number of values:4\n",
            "34\n",
            "12\n",
            "45\n",
            "98\n",
            "Sum of 4 numbers: 189\n"
          ]
        }
      ]
    },
    {
      "cell_type": "markdown",
      "source": [
        "###**20. Sum of digits in a given number using recursion**"
      ],
      "metadata": {
        "id": "4AUSVYAluDQ9"
      }
    },
    {
      "cell_type": "code",
      "source": [
        "n = int(input('Enter a number:'))\n",
        "\n",
        "def add(n):\n",
        "  sum = 0\n",
        "  if(n==0):\n",
        "    return 0\n",
        "  sum = n % 10 + add(n // 10)\n",
        "  return(sum)\n",
        "\n",
        "print(\"Sum of digits:\", add(n))"
      ],
      "metadata": {
        "colab": {
          "base_uri": "https://localhost:8080/"
        },
        "id": "c5ERmW5kuCgO",
        "outputId": "881e08b6-76d5-4343-9693-626a7cd69488"
      },
      "execution_count": 10,
      "outputs": [
        {
          "output_type": "stream",
          "name": "stdout",
          "text": [
            "Enter a number:567\n",
            "Sum of digits: 18\n"
          ]
        }
      ]
    }
  ]
}
