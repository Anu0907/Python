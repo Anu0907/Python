{
  "nbformat": 4,
  "nbformat_minor": 0,
  "metadata": {
    "colab": {
      "provenance": [],
      "authorship_tag": "ABX9TyPkgX4YAi+P58Rzh/qsULNQ",
      "include_colab_link": true
    },
    "kernelspec": {
      "name": "python3",
      "display_name": "Python 3"
    },
    "language_info": {
      "name": "python"
    }
  },
  "cells": [
    {
      "cell_type": "markdown",
      "metadata": {
        "id": "view-in-github",
        "colab_type": "text"
      },
      "source": [
        "<a href=\"https://colab.research.google.com/github/Anu0907/Python/blob/main/Basic%20Programs%20-%205.ipynb\" target=\"_parent\"><img src=\"https://colab.research.google.com/assets/colab-badge.svg\" alt=\"Open In Colab\"/></a>"
      ]
    },
    {
      "cell_type": "markdown",
      "source": [
        "### **41. Program for sorting  given list without using sort() or sorted() built-in functions**"
      ],
      "metadata": {
        "id": "WEmHaasA2p1J"
      }
    },
    {
      "cell_type": "code",
      "source": [
        "list1 = list(map(int,input(\"Enter list of elements with comma: \").split(\",\")))\n",
        "print(\"Unsorted:\",list1)\n",
        "\n",
        "for i in range(len(list1)-1):\n",
        "  min_val = min(list1[i:])\n",
        "  min_ind = list1.index(min_val,i)\n",
        "  list1[i],list1[min_ind] = list1[min_ind],list1[i]\n",
        "\n",
        "print(\"Sorted:\",list1)"
      ],
      "metadata": {
        "id": "qFeslKYK6705",
        "colab": {
          "base_uri": "https://localhost:8080/"
        },
        "outputId": "0a2e241a-63f0-4a6e-e328-89c3c0f2915e"
      },
      "execution_count": 1,
      "outputs": [
        {
          "output_type": "stream",
          "name": "stdout",
          "text": [
            "Enter list of elements with comma: 56, 89, 36, 25, 79\n",
            "Unsorted: [56, 89, 36, 25, 79]\n",
            "Sorted: [25, 36, 56, 79, 89]\n"
          ]
        }
      ]
    },
    {
      "cell_type": "markdown",
      "source": [
        "### **42. Program for sorting given list in descending order without using sort() or sorted() built-in functions**"
      ],
      "metadata": {
        "id": "jKkS0_va2qW5"
      }
    },
    {
      "cell_type": "code",
      "source": [
        "list1 = list(map(int,input(\"Enter list of elements with comma: \").split(\",\")))\n",
        "print(\"Unsorted:\",list1)\n",
        "\n",
        "for i in range(len(list1)):\n",
        "  max_val = max(list1[i:])\n",
        "  max_ind = list1.index(max_val,i)\n",
        "  \n",
        "  if(list1[i]!=list1[max_ind]):\n",
        "    list1[i],list1[max_ind] = list1[max_ind],list1[i]\n",
        "\n",
        "print(\"Sorted:\",list1)"
      ],
      "metadata": {
        "id": "4KV27e6a68ch",
        "colab": {
          "base_uri": "https://localhost:8080/"
        },
        "outputId": "fef1775d-01ec-4ad4-f8a5-7a2a6888da44"
      },
      "execution_count": 2,
      "outputs": [
        {
          "output_type": "stream",
          "name": "stdout",
          "text": [
            "Enter list of elements with comma: 59, 36, 87, 12, 68\n",
            "Unsorted: [59, 36, 87, 12, 68]\n",
            "Sorted: [87, 68, 59, 36, 12]\n"
          ]
        }
      ]
    },
    {
      "cell_type": "markdown",
      "source": [
        "### **43. Program to create a set of X,Y,Z such that pythagorean triples in range of 1 to 30**\n",
        "\n",
        "\n",
        "\n",
        "\n"
      ],
      "metadata": {
        "id": "N-4T1aRG2qvo"
      }
    },
    {
      "cell_type": "code",
      "source": [
        "n = int(input(\"Enter range: \"))\n",
        "x = []\n",
        "\n",
        "for i in range(1,n+1):\n",
        "  for j in range(i,n+1):\n",
        "    for k in range(j,n+1):\n",
        "      if i**2+j**2==k**2:\n",
        "        s = (k,j,i)\n",
        "        x.append(s)\n",
        "\n",
        "print(sorted(x))"
      ],
      "metadata": {
        "id": "7F4cgfbO69Xi",
        "colab": {
          "base_uri": "https://localhost:8080/"
        },
        "outputId": "2deffff2-7497-4117-e048-995721f7885f"
      },
      "execution_count": 3,
      "outputs": [
        {
          "output_type": "stream",
          "name": "stdout",
          "text": [
            "Enter range: 25\n",
            "[(5, 4, 3), (10, 8, 6), (13, 12, 5), (15, 12, 9), (17, 15, 8), (20, 16, 12), (25, 20, 15), (25, 24, 7)]\n"
          ]
        }
      ]
    },
    {
      "cell_type": "markdown",
      "source": [
        "### **44. Program to take capital and state as input from user, and create a Dictionary with these inputs. Program should terminate once a user enters end**"
      ],
      "metadata": {
        "id": "OOltzj2K2rFY"
      }
    },
    {
      "cell_type": "code",
      "source": [
        "a = dict()\n",
        "x = input(\"Enter the State or 'end' to quit: \")\n",
        "a = []\n",
        "b = []\n",
        "\n",
        "while len(x)>0:\n",
        "  if 'end' in x:\n",
        "    break\n",
        "  a.append(x)\n",
        "  y = input(\"Enter the Capital city: \")\n",
        "  b.append(y)\n",
        "  x = input(\"Enter the State: \")\n",
        "\n",
        "a = dict(zip(a,b))\n",
        "print(sorted(a.items()))"
      ],
      "metadata": {
        "id": "75UJuQgh6-M4",
        "colab": {
          "base_uri": "https://localhost:8080/"
        },
        "outputId": "c6dccb3e-f5d1-4fc1-d837-0df6ac7d4cae"
      },
      "execution_count": 4,
      "outputs": [
        {
          "output_type": "stream",
          "name": "stdout",
          "text": [
            "Enter the State or 'end' to quit: Karnataka\n",
            "Enter the Capital city: Bengaluru\n",
            "Enter the State: Telangana\n",
            "Enter the Capital city: Hyderbad\n",
            "Enter the State: end\n",
            "[('Karnataka', 'Bengaluru'), ('Telangana', 'Hyderbad')]\n"
          ]
        }
      ]
    },
    {
      "cell_type": "markdown",
      "source": [
        "### **45. Find first duplicate occurrence number in given list**"
      ],
      "metadata": {
        "id": "t62iSLJM2rXR"
      }
    },
    {
      "cell_type": "code",
      "source": [
        "x = list(map(int,input(\"Enter comma separated values: \").split(\",\")))\n",
        "print('\\n',x)\n",
        "y = []\n",
        "\n",
        "for i in range(len(x)):\n",
        "  for j in range(i+1,len(x)):\n",
        "    if x[i]==x[j]:\n",
        "      y.append(x[i])\n",
        "\n",
        "print(\"First duplicate value:\",y[0])"
      ],
      "metadata": {
        "id": "qzajTKAA6-1J",
        "colab": {
          "base_uri": "https://localhost:8080/"
        },
        "outputId": "c0f0c2c2-fe35-4e06-b460-d4f1fadad053"
      },
      "execution_count": 5,
      "outputs": [
        {
          "output_type": "stream",
          "name": "stdout",
          "text": [
            "Enter comma separated values: 7, 4, 12, 58, 27, 5, 58\n",
            "\n",
            " [7, 4, 12, 58, 27, 5, 58]\n",
            "First duplicate value: 58\n"
          ]
        }
      ]
    },
    {
      "cell_type": "markdown",
      "source": [
        "### **46. Write a function frequency, which outputs items with lowest frequency and items with highest frequency**"
      ],
      "metadata": {
        "id": "aBPc2hOz2rog"
      }
    },
    {
      "cell_type": "code",
      "source": [
        "def frequency(seq):\n",
        "  b = []\n",
        "  c = []\n",
        "\n",
        "  for i in seq:\n",
        "    if i in b:\n",
        "      continue\n",
        "    b.append(i)\n",
        "    c.append(seq.count(i))\n",
        "  d = dict(zip(b,c))\n",
        "  e = []\n",
        "  f = []\n",
        "  g = min(d.values())\n",
        "  h = max(d.values())\n",
        "\n",
        "  for a,b in d.items():\n",
        "    if b==max(d.values()):\n",
        "      f.append(a)\n",
        "    if b==min(d.values()):\n",
        "      e.append(a)\n",
        "  \n",
        "  i = []\n",
        "  i.append(sorted(e))\n",
        "  i.append(f)\n",
        "  i.append(g)\n",
        "  i.append(h)\n",
        "  i = tuple(i)\n",
        "  return i\n",
        "\n",
        "a = [int(x) for x in input(\"Enter values with spaces:\").split()]\n",
        "print(frequency(a))"
      ],
      "metadata": {
        "id": "II1gxXvk6_2C",
        "colab": {
          "base_uri": "https://localhost:8080/"
        },
        "outputId": "64d4a36c-1e0d-41ed-91a3-1d9397456a15"
      },
      "execution_count": 6,
      "outputs": [
        {
          "output_type": "stream",
          "name": "stdout",
          "text": [
            "Enter values with spaces:1 2 3 1 2 5\n",
            "([3, 5], [1, 2], 1, 2)\n"
          ]
        }
      ]
    },
    {
      "cell_type": "markdown",
      "source": [
        "### **47. Print transpose of matrix for user input matrix**"
      ],
      "metadata": {
        "id": "ldzkOMTY2r5Y"
      }
    },
    {
      "cell_type": "code",
      "source": [
        "a = int(input(\"Enter number of rows: \"))\n",
        "b = int(input(\"Enter number of columns: \"))\n",
        "\n",
        "print(\"Enter elements of matrix: \")\n",
        "matrix = [[int(input()) for i in range(b)] for j in range(a)]\n",
        "print(\"Matrix: \")\n",
        "\n",
        "for i in range(a):\n",
        "  for j in range(b):\n",
        "    print(matrix[i][j],end=\" \")\n",
        "  print()\n",
        "\n",
        "result = [[0 for i in range(a)] for j in range(b)]\n",
        "\n",
        "for i in range(b):\n",
        "  for j in range(a):\n",
        "    result[i][j]=matrix[j][i]\n",
        "\n",
        "print(\"Transposed: \")\n",
        "for i in range(b):\n",
        "  for j in range(a):\n",
        "    print(result[i][j],end=\" \")\n",
        "  print()"
      ],
      "metadata": {
        "id": "gOvDKKEC7Aox",
        "colab": {
          "base_uri": "https://localhost:8080/"
        },
        "outputId": "4a85c662-6afe-429d-c92c-f4b47981e78c"
      },
      "execution_count": 7,
      "outputs": [
        {
          "output_type": "stream",
          "name": "stdout",
          "text": [
            "Enter number of rows: 2\n",
            "Enter number of columns: 2\n",
            "Enter elements of matrix: \n",
            "3\n",
            "6\n",
            "5\n",
            "4\n",
            "Matrix: \n",
            "3 6 \n",
            "5 4 \n",
            "Transposed: \n",
            "3 5 \n",
            "6 4 \n"
          ]
        }
      ]
    },
    {
      "cell_type": "markdown",
      "source": [
        "### **48. Program for addition of two matrices**"
      ],
      "metadata": {
        "id": "pSUuJJAg2sMh"
      }
    },
    {
      "cell_type": "code",
      "source": [
        "row = int(input(\"Enter number of rows: \"))\n",
        "col = int(input(\"Enter number of columns: \"))\n",
        "\n",
        "print(\"Enter elements of matrix1: \")\n",
        "matrix1 = [[int(input()) for i in range(col)] for j in range(row)]\n",
        "print(\"Matrix1: \")\n",
        "\n",
        "for i in range(row):\n",
        "  for j in range(col):\n",
        "    print(matrix1[i][j],end=\" \")\n",
        "  print()\n",
        "\n",
        "print(\"Enter elements of matrix2: \")\n",
        "matrix2 = [[int(input()) for i in range(col)] for j in range(row)]\n",
        "print(\"Matrix2: \")\n",
        "\n",
        "for i in range(row):\n",
        "  for j in range(col):\n",
        "    print(matrix2[i][j],end=\" \")\n",
        "  print()\n",
        "\n",
        "result = [[0 for i in range(col)] for j in range(row)]\n",
        "\n",
        "for i in range(row):\n",
        "  for j in range(col):\n",
        "    result[i][j]=matrix1[i][j]+matrix2[i][j]\n",
        "\n",
        "print(\"Result is: \")\n",
        "for i in range(row):\n",
        "  for j in range(col):\n",
        "    print(result[i][j],end=\" \")\n",
        "  print()"
      ],
      "metadata": {
        "id": "NdUFnHN57BcA",
        "colab": {
          "base_uri": "https://localhost:8080/"
        },
        "outputId": "fb218fe8-154d-4d73-e792-34ddba568762"
      },
      "execution_count": 8,
      "outputs": [
        {
          "output_type": "stream",
          "name": "stdout",
          "text": [
            "Enter number of rows: 2\n",
            "Enter number of columns: 2\n",
            "Enter elements of matrix1: \n",
            "6\n",
            "2\n",
            "4\n",
            "5\n",
            "Matrix1: \n",
            "6 2 \n",
            "4 5 \n",
            "Enter elements of matrix2: \n",
            "1\n",
            "2\n",
            "4\n",
            "5\n",
            "Matrix2: \n",
            "1 2 \n",
            "4 5 \n",
            "Result is: \n",
            "7 4 \n",
            "8 10 \n"
          ]
        }
      ]
    },
    {
      "cell_type": "markdown",
      "source": [
        "### **49. Program for multiplication of two matrices**"
      ],
      "metadata": {
        "id": "bbMGPqvA6grs"
      }
    },
    {
      "cell_type": "code",
      "source": [
        "p = int(input(\"Enter number of rows for matrix1: \"))\n",
        "q = int(input(\"Enter number of columns for matrix2: \"))\n",
        "n = int(input(\"Enter number of col for martix1 and rows for matrix2: \"))\n",
        "\n",
        "print(\"Enter elements of matrix1: \")\n",
        "matrix1 = [[int(input()) for i in range(n)] for j in range(p)]\n",
        "print(\"Matrix1: \")\n",
        "\n",
        "for i in range(p):\n",
        "  for j in range(n):\n",
        "    print(format(matrix1[i][j],\"<5\"),end=\" \")\n",
        "  print()\n",
        "\n",
        "print(\"Enter elements of matrix2: \")\n",
        "matrix2 = [[int(input()) for i in range(q)] for j in range(n)]\n",
        "print(\"Matrix2: \")\n",
        "\n",
        "for i in range(n):\n",
        "  for j in range(q):\n",
        "    print(format(matrix2[i][j],\"<5\"),end=\" \")\n",
        "  print()\n",
        "\n",
        "result = [[0 for i in range(q)] for j in range(p)]\n",
        "\n",
        "for i in range(p):\n",
        "  for j in range(q):\n",
        "    for k in range(n):\n",
        "      result[i][j]=result[i][j]+matrix1[i][k]*matrix2[k][j]\n",
        "\n",
        "print(\"Result is: \")\n",
        "for i in range(p):\n",
        "  for j in range(q):\n",
        "    print(format(result[i][j],\"<5\"),end=\" \")\n",
        "  print()"
      ],
      "metadata": {
        "id": "GHxTHOZC7CSL",
        "colab": {
          "base_uri": "https://localhost:8080/"
        },
        "outputId": "9ee004c6-22ef-4803-ec1a-e633c9c76057"
      },
      "execution_count": 9,
      "outputs": [
        {
          "output_type": "stream",
          "name": "stdout",
          "text": [
            "Enter number of rows for matrix1: 2\n",
            "Enter number of columns for matrix2: 2\n",
            "Enter number of col for martix1 and rows for matrix2: 3\n",
            "Enter elements of matrix1: \n",
            "1\n",
            "2\n",
            "3\n",
            "4\n",
            "5\n",
            "6\n",
            "Matrix1: \n",
            "1     2     3     \n",
            "4     5     6     \n",
            "Enter elements of matrix2: \n",
            "1\n",
            "2\n",
            "3\n",
            "4\n",
            "5\n",
            "6\n",
            "Matrix2: \n",
            "1     2     \n",
            "3     4     \n",
            "5     6     \n",
            "Result is: \n",
            "22    28    \n",
            "49    64    \n"
          ]
        }
      ]
    },
    {
      "cell_type": "markdown",
      "source": [
        "### **50. Print number of words in a given text**"
      ],
      "metadata": {
        "id": "j6SvPcHv6hMi"
      }
    },
    {
      "cell_type": "code",
      "execution_count": 10,
      "metadata": {
        "id": "yp7QbOE32nqx",
        "colab": {
          "base_uri": "https://localhost:8080/"
        },
        "outputId": "144dfd2b-1064-444a-fc44-3c650ddec5f7"
      },
      "outputs": [
        {
          "output_type": "stream",
          "name": "stdout",
          "text": [
            "Enter the text: python is a program language\n",
            "Words are: 5\n"
          ]
        }
      ],
      "source": [
        "a = input(\"Enter the text: \")\n",
        "b = 'out'\n",
        "words = 0\n",
        "\n",
        "for i in a:\n",
        "  if i!=' ' and b=='out':\n",
        "    words+=1\n",
        "    b = 'in'\n",
        "  if i==' ':\n",
        "    b = 'out'\n",
        "\n",
        "print(\"Words are:\",words)"
      ]
    }
  ]
}