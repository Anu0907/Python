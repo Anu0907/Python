{
  "nbformat": 4,
  "nbformat_minor": 0,
  "metadata": {
    "colab": {
      "provenance": [],
      "collapsed_sections": []
    },
    "kernelspec": {
      "name": "python3",
      "display_name": "Python 3"
    },
    "language_info": {
      "name": "python"
    }
  },
  "cells": [
    {
      "cell_type": "markdown",
      "source": [
        "### **1. To check whether number is prime or not**"
      ],
      "metadata": {
        "id": "0MMWel9xZDGn"
      }
    },
    {
      "cell_type": "code",
      "execution_count": null,
      "metadata": {
        "colab": {
          "base_uri": "https://localhost:8080/"
        },
        "id": "yWVET9CYY3A_",
        "outputId": "2bc80030-6325-4503-a04a-e3fad5995e69"
      },
      "outputs": [
        {
          "output_type": "stream",
          "name": "stdout",
          "text": [
            "Enter a number: 71\n",
            "Given number is prime number\n"
          ]
        }
      ],
      "source": [
        "n = int(input(\"Enter a number: \"))\n",
        "\n",
        "count = 0\n",
        "\n",
        "for i in range(1,n+1):\n",
        "  if(n%i==0):\n",
        "    count +=1\n",
        "\n",
        "if(count==2):\n",
        "  print(\"Given number is prime number\")\n",
        "else:\n",
        "  print(\"Given number is not prime number\")"
      ]
    },
    {
      "cell_type": "markdown",
      "source": [
        "###**2. GCD of 2 numbers** "
      ],
      "metadata": {
        "id": "gGD37yQma1-x"
      }
    },
    {
      "cell_type": "code",
      "source": [
        "a = int(input(\"Enter first value: \"))\n",
        "b = int(input(\"Enter second value: \"))\n",
        "\n",
        "while(a!=b):\n",
        "  if(a>b):\n",
        "    a=a-b\n",
        "  else:\n",
        "    b=b-a\n",
        "\n",
        "print(\"GCD of a number is: \",a)"
      ],
      "metadata": {
        "colab": {
          "base_uri": "https://localhost:8080/"
        },
        "id": "Lq8UPyQqabuF",
        "outputId": "4635fda1-b4d0-4830-93a1-1b89089f3c51"
      },
      "execution_count": null,
      "outputs": [
        {
          "output_type": "stream",
          "name": "stdout",
          "text": [
            "Enter first value: 12\n",
            "Enter second value: 48\n",
            "GCD of a number is:  12\n"
          ]
        }
      ]
    },
    {
      "cell_type": "markdown",
      "source": [
        "### **3. Printing pattern**"
      ],
      "metadata": {
        "id": "bI7l9eElb0Sw"
      }
    },
    {
      "cell_type": "code",
      "source": [
        "n = int(input(\"Enter number of rows: \"))\n",
        "\n",
        "for i in range(n,0,-1):\n",
        "  for j in range(0,i):\n",
        "    print(\"*\",end='')\n",
        "  print()"
      ],
      "metadata": {
        "colab": {
          "base_uri": "https://localhost:8080/"
        },
        "id": "5NPWY0ULbfcC",
        "outputId": "1f2d1288-4570-49c5-e22d-04ab83998419"
      },
      "execution_count": null,
      "outputs": [
        {
          "output_type": "stream",
          "name": "stdout",
          "text": [
            "Enter number of rows: 7\n",
            "*******\n",
            "******\n",
            "*****\n",
            "****\n",
            "***\n",
            "**\n",
            "*\n"
          ]
        }
      ]
    },
    {
      "cell_type": "markdown",
      "source": [
        "### **4. Palindrome number**"
      ],
      "metadata": {
        "id": "0P32F8YycVlm"
      }
    },
    {
      "cell_type": "code",
      "source": [
        "n = int(input(\"Enter a number: \"))\n",
        "\n",
        "sum = 0\n",
        "temp = int(n)\n",
        "\n",
        "while(n>0):\n",
        "  rem = int(n%10)\n",
        "  sum = sum*10+rem\n",
        "  n = n//10\n",
        "n = temp\n",
        "\n",
        "if(sum==n):\n",
        "  print(\"Palindrome number\")\n",
        "else:\n",
        "  print(\"Not a palindrome number\")"
      ],
      "metadata": {
        "colab": {
          "base_uri": "https://localhost:8080/"
        },
        "id": "AaVW_gsLcQdN",
        "outputId": "a432e31e-76e2-4cfd-8c4b-f090dcdf8476"
      },
      "execution_count": null,
      "outputs": [
        {
          "output_type": "stream",
          "name": "stdout",
          "text": [
            "Enter a number: 1289821\n",
            "Palindrome number\n"
          ]
        }
      ]
    },
    {
      "cell_type": "markdown",
      "source": [
        "### **5. Fibonnaci Series**"
      ],
      "metadata": {
        "id": "PpChkXkUdfO0"
      }
    },
    {
      "cell_type": "code",
      "source": [
        "n = int(input(\"Enter range of series: \"))\n",
        "\n",
        "a=0\n",
        "b=1\n",
        "\n",
        "for i in range(n):\n",
        "  print(a)\n",
        "  c = int(a+b)\n",
        "  a=b\n",
        "  b=c"
      ],
      "metadata": {
        "colab": {
          "base_uri": "https://localhost:8080/"
        },
        "id": "uStfLDQ5dJdn",
        "outputId": "29d1d414-71b7-423f-d87a-d73cde138f02"
      },
      "execution_count": null,
      "outputs": [
        {
          "output_type": "stream",
          "name": "stdout",
          "text": [
            "Enter range of series: 15\n",
            "0\n",
            "1\n",
            "1\n",
            "2\n",
            "3\n",
            "5\n",
            "8\n",
            "13\n",
            "21\n",
            "34\n",
            "55\n",
            "89\n",
            "144\n",
            "233\n",
            "377\n"
          ]
        }
      ]
    },
    {
      "cell_type": "markdown",
      "source": [
        "### **6. Factorial of a given number**"
      ],
      "metadata": {
        "id": "Res2YqgUeU-K"
      }
    },
    {
      "cell_type": "code",
      "source": [
        "a = int(input(\"Enter a number: \"))\n",
        "\n",
        "fact = 1\n",
        "\n",
        "for i in range(1,a+1):\n",
        "  fact = fact*i\n",
        "\n",
        "print(\"Factorial of a given number is: \",fact)"
      ],
      "metadata": {
        "colab": {
          "base_uri": "https://localhost:8080/"
        },
        "id": "f70SbefOeRIh",
        "outputId": "79eaf52b-4331-488b-b4ca-47523d82d518"
      },
      "execution_count": null,
      "outputs": [
        {
          "output_type": "stream",
          "name": "stdout",
          "text": [
            "Enter a number: 17\n",
            "Factorial of a given number is:  355687428096000\n"
          ]
        }
      ]
    },
    {
      "cell_type": "markdown",
      "source": [
        "### **7. Sum of digits of a given number**"
      ],
      "metadata": {
        "id": "oaCnMnUDfD4Z"
      }
    },
    {
      "cell_type": "code",
      "source": [
        "n = int(input(\"Enter a number: \"))\n",
        "\n",
        "sum=0\n",
        "\n",
        "while(n>0):\n",
        "  r=n%10\n",
        "  n=n//10\n",
        "  sum=sum+r\n",
        "\n",
        "print(\"Sum of digits of a given number is: \",sum)"
      ],
      "metadata": {
        "id": "RzBvPE2Yezls",
        "colab": {
          "base_uri": "https://localhost:8080/"
        },
        "outputId": "bccc6757-6be0-4f58-d03c-7592d849d7ed"
      },
      "execution_count": null,
      "outputs": [
        {
          "output_type": "stream",
          "name": "stdout",
          "text": [
            "Enter a number: 473\n",
            "Sum of digits of a given number is:  14\n"
          ]
        }
      ]
    },
    {
      "cell_type": "markdown",
      "source": [
        "### **8. Factorial of 3 Numbers**"
      ],
      "metadata": {
        "id": "Ib-xPxDzfpDA"
      }
    },
    {
      "cell_type": "code",
      "source": [
        "print(\"Enter 3 numbers: \")\n",
        "n1 = int(input())\n",
        "n2 = int(input())\n",
        "n3 = int(input())\n",
        "\n",
        "def fact(n):\n",
        "  fact = 1\n",
        "  for i in range(1,n+1):\n",
        "    fact = fact * i\n",
        "  return(fact)\n",
        "\n",
        "print(\"Factorial of a given numbers are: \")\n",
        "print(fact(n1))\n",
        "print(fact(n2))\n",
        "print(fact(n3))"
      ],
      "metadata": {
        "colab": {
          "base_uri": "https://localhost:8080/"
        },
        "id": "l3wC5Q1xfnud",
        "outputId": "595f7c24-dd1a-420c-9d2b-d8dd8d0a2f33"
      },
      "execution_count": null,
      "outputs": [
        {
          "output_type": "stream",
          "name": "stdout",
          "text": [
            "Enter 3 numbers: \n",
            "14\n",
            "28\n",
            "56\n",
            "Factorial of a given numbers are: \n",
            "87178291200\n",
            "304888344611713860501504000000\n",
            "710998587804863451854045647463724949736497978881168458687447040000000000000\n"
          ]
        }
      ]
    },
    {
      "cell_type": "markdown",
      "source": [
        "### **9. Pattern Printing**"
      ],
      "metadata": {
        "id": "NvuwD4ctGZRq"
      }
    },
    {
      "cell_type": "code",
      "source": [
        "n = int(input(\"Enter number of rows: \"))\n",
        "\n",
        "for i in range(n):\n",
        "  j = n\n",
        "  while(j>i):\n",
        "    print(\"$\", end='')\n",
        "    j = j - 1\n",
        "  print()"
      ],
      "metadata": {
        "colab": {
          "base_uri": "https://localhost:8080/"
        },
        "id": "VoRNrlXlGW60",
        "outputId": "e84b42d9-de3c-4c5e-d4af-4e8dec17e96d"
      },
      "execution_count": null,
      "outputs": [
        {
          "output_type": "stream",
          "name": "stdout",
          "text": [
            "Enter number of rows: 8\n",
            "$$$$$$$$\n",
            "$$$$$$$\n",
            "$$$$$$\n",
            "$$$$$\n",
            "$$$$\n",
            "$$$\n",
            "$$\n",
            "$\n"
          ]
        }
      ]
    },
    {
      "cell_type": "markdown",
      "source": [
        "### **10. GCD of 3 Numbers**"
      ],
      "metadata": {
        "id": "eKyjoZNqGwX9"
      }
    },
    {
      "cell_type": "code",
      "source": [
        "n1, n2, n3 = map(int,input('Enter 3 values:').split())\n",
        "\n",
        "def gcd(n,m):\n",
        "  while(n!=m):\n",
        "    if(n>m):\n",
        "      n = n - m\n",
        "    else:\n",
        "      m = m - n\n",
        "    return(n)\n",
        "\n",
        "n4 = gcd(n1, n2)\n",
        "n5 = gcd(n3, n4)\n",
        "print(\"GCD of a given numbers are:\", n5)"
      ],
      "metadata": {
        "colab": {
          "base_uri": "https://localhost:8080/"
        },
        "id": "E7RaLxmVGvqs",
        "outputId": "a5e3d40c-0fdc-423b-fe40-57feef110349"
      },
      "execution_count": null,
      "outputs": [
        {
          "output_type": "stream",
          "name": "stdout",
          "text": [
            "Enter 3 values:45 78 94\n",
            "GCD of a given numbers are: 49\n"
          ]
        }
      ]
    }
  ]
}