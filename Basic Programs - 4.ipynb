{
  "nbformat": 4,
  "nbformat_minor": 0,
  "metadata": {
    "colab": {
      "provenance": [],
      "authorship_tag": "ABX9TyNET1NUtDVTT+geODT5PxWI",
      "include_colab_link": true
    },
    "kernelspec": {
      "name": "python3",
      "display_name": "Python 3"
    },
    "language_info": {
      "name": "python"
    }
  },
  "cells": [
    {
      "cell_type": "markdown",
      "metadata": {
        "id": "view-in-github",
        "colab_type": "text"
      },
      "source": [
        "<a href=\"https://colab.research.google.com/github/Anu0907/Python/blob/main/Basic%20Programs%20-%204.ipynb\" target=\"_parent\"><img src=\"https://colab.research.google.com/assets/colab-badge.svg\" alt=\"Open In Colab\"/></a>"
      ]
    },
    {
      "cell_type": "markdown",
      "source": [
        "###**31. Program for Reverse of given string using 'for loop'**"
      ],
      "metadata": {
        "id": "I59QjgxalPlM"
      }
    },
    {
      "cell_type": "code",
      "execution_count": 1,
      "metadata": {
        "colab": {
          "base_uri": "https://localhost:8080/"
        },
        "id": "xtog4avDlOVl",
        "outputId": "736b7cbe-1bed-4700-8d45-ef45488a01c5"
      },
      "outputs": [
        {
          "output_type": "stream",
          "name": "stdout",
          "text": [
            "Enter the string: python program\n",
            "margorp nohtyp \n"
          ]
        }
      ],
      "source": [
        "def reverse(string):\n",
        "  reversed_str = \" \"\n",
        "  \n",
        "  for i in string:\n",
        "    reversed_str = i + reversed_str\n",
        "  return reversed_str\n",
        "\n",
        "str = input(\"Enter the string: \")\n",
        "print(reverse(str))"
      ]
    },
    {
      "cell_type": "markdown",
      "source": [
        "###**32. Check whether the entered character is vowel or consonant**"
      ],
      "metadata": {
        "id": "xd5JDi_emGBJ"
      }
    },
    {
      "cell_type": "code",
      "source": [
        "ch = input(\"Enter the character: \")\n",
        "\n",
        "if ch.lower() in ('a','e','i','o','u'):\n",
        "  print('Vowel')\n",
        "elif ch.upper() in ('A','E','I','O','U'):\n",
        "  print('Vowel')\n",
        "else:\n",
        "  print('Consonant')"
      ],
      "metadata": {
        "colab": {
          "base_uri": "https://localhost:8080/"
        },
        "id": "tf1qSq37mGYy",
        "outputId": "dcfa352c-2c86-49f0-b3a8-bc246255005e"
      },
      "execution_count": 2,
      "outputs": [
        {
          "output_type": "stream",
          "name": "stdout",
          "text": [
            "Enter the character: a\n",
            "Vowel\n"
          ]
        }
      ]
    },
    {
      "cell_type": "markdown",
      "source": [
        "###**33. Program to convert temperature given in Fahrenheit to Celsius and vice versa**"
      ],
      "metadata": {
        "id": "x9MefFUSnCiI"
      }
    },
    {
      "cell_type": "code",
      "source": [
        "nx = input(\"Please enter temperature with unit: \")\n",
        "n = int(nx[:-1])\n",
        "x = nx[-1]\n",
        "\n",
        "if x.upper()=='C' or x.lower()=='c':\n",
        "  n1 = int((9*n)/5+32)\n",
        "  x1 = 'F'\n",
        "  print(\"{0:.2f} {1}\".format(n1,x1))\n",
        "elif x.upper()=='F' or x.lower()=='f':\n",
        "  n1 = int(round((n-32)*5/9))\n",
        "  x1 = 'C'\n",
        "  print(\"{0:.2f} {1}\".format(n1,x1))\n",
        "else:\n",
        "  print(\"Unrecognized unit:\", x)"
      ],
      "metadata": {
        "colab": {
          "base_uri": "https://localhost:8080/"
        },
        "id": "G_igJwnSnDIo",
        "outputId": "5f6178a6-1b08-481c-c666-eaab9a0e3813"
      },
      "execution_count": 3,
      "outputs": [
        {
          "output_type": "stream",
          "name": "stdout",
          "text": [
            "Please enter temperature with unit: 27f\n",
            "-3.00 C\n"
          ]
        }
      ]
    },
    {
      "cell_type": "markdown",
      "source": [
        "###**34. Program to Calculate Fibonacci numbers less than a given number and Calculate sum of all alternate numbers (even numbered) in the generated list**"
      ],
      "metadata": {
        "id": "Q9uvHxpvo10M"
      }
    },
    {
      "cell_type": "code",
      "source": [
        "n = int(input(\"Please enter the input: \"))\n",
        "a=0\n",
        "b=1\n",
        "c=0\n",
        "x=[0]\n",
        "\n",
        "for i in range(n):\n",
        "  if a>n:\n",
        "    break\n",
        "  else:\n",
        "    print(a)\n",
        "    c=int(a+b)\n",
        "    a=b\n",
        "    b=c\n",
        "    x.append(a)\n",
        "\n",
        "y=x[:-1]\n",
        "sum=0\n",
        "z=len(y)/2\n",
        "\n",
        "if len(y)%2!=0:\n",
        "  for i in range(int(len(y)/2)+1):\n",
        "    sum=sum+y[2*i]\n",
        "  print(\"Sum is:\", sum)\n",
        "else:\n",
        "  for i in range(int(len(y)/2)):\n",
        "    sum=sum+y[2*i]\n",
        "  print(\"Sum is:\", sum)"
      ],
      "metadata": {
        "id": "9-l0AlcLo2VY",
        "colab": {
          "base_uri": "https://localhost:8080/"
        },
        "outputId": "b0f0c695-4f35-4bf3-f105-8314973bface"
      },
      "execution_count": 4,
      "outputs": [
        {
          "output_type": "stream",
          "name": "stdout",
          "text": [
            "Please enter the input: 15\n",
            "0\n",
            "1\n",
            "1\n",
            "2\n",
            "3\n",
            "5\n",
            "8\n",
            "13\n",
            "Sum is: 12\n"
          ]
        }
      ]
    },
    {
      "cell_type": "markdown",
      "source": [
        "### **35. Print a multiplication table up to a maximum of 20 rows. Even if the number of rows asked by user is more than 20, we should limit up to 20 rows and print an error message as shown**"
      ],
      "metadata": {
        "id": "aO7sZKLYmmpF"
      }
    },
    {
      "cell_type": "code",
      "source": [
        "x = int(input(\"Table: \"))\n",
        "y = int(input(\"Range: \"))\n",
        "\n",
        "for i in range(1,y+1):\n",
        "  if y<20:\n",
        "    print(\"{0} * {1} = {2}\".format(x,i,x*i))\n",
        "else:\n",
        "  if y>20:\n",
        "    for i in range(1,21):\n",
        "      print(\"{0} * {1} = {2}\".format(x,i,x*i))\n",
        "    print(\"Limit is 20\")"
      ],
      "metadata": {
        "colab": {
          "base_uri": "https://localhost:8080/"
        },
        "id": "NhD-kV9Vmn6N",
        "outputId": "3584295e-57ea-4738-de2d-d2853e841389"
      },
      "execution_count": 5,
      "outputs": [
        {
          "output_type": "stream",
          "name": "stdout",
          "text": [
            "Table: 5\n",
            "Range: 23\n",
            "5 * 1 = 5\n",
            "5 * 2 = 10\n",
            "5 * 3 = 15\n",
            "5 * 4 = 20\n",
            "5 * 5 = 25\n",
            "5 * 6 = 30\n",
            "5 * 7 = 35\n",
            "5 * 8 = 40\n",
            "5 * 9 = 45\n",
            "5 * 10 = 50\n",
            "5 * 11 = 55\n",
            "5 * 12 = 60\n",
            "5 * 13 = 65\n",
            "5 * 14 = 70\n",
            "5 * 15 = 75\n",
            "5 * 16 = 80\n",
            "5 * 17 = 85\n",
            "5 * 18 = 90\n",
            "5 * 19 = 95\n",
            "5 * 20 = 100\n",
            "Limit is 20\n"
          ]
        }
      ]
    },
    {
      "cell_type": "markdown",
      "source": [
        "### **36. Print the pyramid**"
      ],
      "metadata": {
        "id": "zkpoSvbcoJ1S"
      }
    },
    {
      "cell_type": "code",
      "source": [
        "x = int(input(\"Enter number of rows: \"))\n",
        "\n",
        "for i in range(0,x):\n",
        "  for j in range(0,x-i-1):\n",
        "    print(end=\" \")\n",
        "  for j in range(0,i+1):\n",
        "    print(\"*\",end=\" \")\n",
        "  print()"
      ],
      "metadata": {
        "colab": {
          "base_uri": "https://localhost:8080/"
        },
        "id": "mCB38APEoKiC",
        "outputId": "1bd25d1e-cf75-4a19-d5de-8636d5d1193e"
      },
      "execution_count": 6,
      "outputs": [
        {
          "output_type": "stream",
          "name": "stdout",
          "text": [
            "Enter number of rows: 5\n",
            "    * \n",
            "   * * \n",
            "  * * * \n",
            " * * * * \n",
            "* * * * * \n"
          ]
        }
      ]
    },
    {
      "cell_type": "markdown",
      "source": [
        "### **37. Program to print each character of a string in incremental order**"
      ],
      "metadata": {
        "id": "1z7ciMVnoucs"
      }
    },
    {
      "cell_type": "code",
      "source": [
        "x = input(\"Enter the string: \")\n",
        "y = list(x)\n",
        "a = len(y)\n",
        "b = []\n",
        "\n",
        "for i in range(0,a+1):\n",
        "  for j in range(0,i):\n",
        "    b.append(y[j])\n",
        "\n",
        "b = ''.join(b)\n",
        "print(b)"
      ],
      "metadata": {
        "colab": {
          "base_uri": "https://localhost:8080/"
        },
        "id": "yqsZFD9dpMko",
        "outputId": "4cc581b9-7ede-4822-8b25-97817d7db278"
      },
      "execution_count": 7,
      "outputs": [
        {
          "output_type": "stream",
          "name": "stdout",
          "text": [
            "Enter the string: python\n",
            "ppypytpythpythopython\n"
          ]
        }
      ]
    },
    {
      "cell_type": "markdown",
      "source": [
        "### **38. Program to find how many times a single digit is repeated in a given number**"
      ],
      "metadata": {
        "id": "uRnUp3nhqErv"
      }
    },
    {
      "cell_type": "code",
      "source": [
        "x = input(\"Enter an integer: \")\n",
        "y = \"\"\n",
        "z = []\n",
        "\n",
        "for i in x:\n",
        "  y = (\"{0}\\t{1}\\n\".format(i,x.count(i)))\n",
        "  if y in z:\n",
        "    continue\n",
        "  z.append(y)\n",
        "\n",
        "a = list(z[-1])\n",
        "del(z[-1])\n",
        "del(a[-1])\n",
        "a = ''.join(a)\n",
        "z.append(a)\n",
        "z = ''.join(z)\n",
        "print(z)"
      ],
      "metadata": {
        "colab": {
          "base_uri": "https://localhost:8080/"
        },
        "id": "z5P0JBqBqjbW",
        "outputId": "18ac44eb-53c1-4126-f163-33a864a58f7d"
      },
      "execution_count": 8,
      "outputs": [
        {
          "output_type": "stream",
          "name": "stdout",
          "text": [
            "Enter an integer: 11454\n",
            "1\t2\n",
            "4\t2\n",
            "5\t1\n"
          ]
        }
      ]
    },
    {
      "cell_type": "markdown",
      "source": [
        "### **39. Print pascal's triangle**"
      ],
      "metadata": {
        "id": "pJeyp7mUrnhs"
      }
    },
    {
      "cell_type": "code",
      "source": [
        "n = int(input(\"Enter number of rows: \"))\n",
        "\n",
        "for i in range(1, n+1):\n",
        "    for j in range(0, n-i+1):\n",
        "        print(' ', end='')\n",
        "    C = 1\n",
        "    for j in range(1, i+1):\n",
        "        print(' ', C, sep='', end='')\n",
        "        C = C * (i - j) // j\n",
        "    print()"
      ],
      "metadata": {
        "colab": {
          "base_uri": "https://localhost:8080/"
        },
        "id": "xaACOPdWroZk",
        "outputId": "290b5278-9f05-4cff-aec0-0ca754efba30"
      },
      "execution_count": 9,
      "outputs": [
        {
          "output_type": "stream",
          "name": "stdout",
          "text": [
            "Enter number of rows: 7\n",
            "        1\n",
            "       1 1\n",
            "      1 2 1\n",
            "     1 3 3 1\n",
            "    1 4 6 4 1\n",
            "   1 5 10 10 5 1\n",
            "  1 6 15 20 15 6 1\n"
          ]
        }
      ]
    },
    {
      "cell_type": "markdown",
      "source": [
        "### **40. Print diamond pattern**"
      ],
      "metadata": {
        "id": "lwsRXh-AzUyo"
      }
    },
    {
      "cell_type": "code",
      "source": [
        "n = int(input(\"Enter a positive integer: \"))\n",
        "\n",
        "for i in range(n):\n",
        "  print(\" \" *(n-i) + \"*\" * (2*i+1))\n",
        "\n",
        "for i in range(n-2,-1,-1):\n",
        "  print(\" \" *(n-i) + \"*\" *(2*i+1))"
      ],
      "metadata": {
        "colab": {
          "base_uri": "https://localhost:8080/"
        },
        "id": "K2LrMFmCzV8e",
        "outputId": "62256192-9b82-420a-b15d-9bffd5771758"
      },
      "execution_count": 10,
      "outputs": [
        {
          "output_type": "stream",
          "name": "stdout",
          "text": [
            "Enter a positive integer: 6\n",
            "      *\n",
            "     ***\n",
            "    *****\n",
            "   *******\n",
            "  *********\n",
            " ***********\n",
            "  *********\n",
            "   *******\n",
            "    *****\n",
            "     ***\n",
            "      *\n"
          ]
        }
      ]
    }
  ]
}