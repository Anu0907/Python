{
  "nbformat": 4,
  "nbformat_minor": 0,
  "metadata": {
    "colab": {
      "provenance": []
    },
    "kernelspec": {
      "name": "python3",
      "display_name": "Python 3"
    },
    "language_info": {
      "name": "python"
    }
  },
  "cells": [
    {
      "cell_type": "markdown",
      "source": [
        "###**21. Sum of digits in a given number using recursion** "
      ],
      "metadata": {
        "id": "xPaGp18bWhs1"
      }
    },
    {
      "cell_type": "code",
      "execution_count": 1,
      "metadata": {
        "id": "uzJcsiTUWSFw",
        "colab": {
          "base_uri": "https://localhost:8080/"
        },
        "outputId": "1286fb28-d9b8-4924-be76-e16d3d509f0f"
      },
      "outputs": [
        {
          "output_type": "stream",
          "name": "stdout",
          "text": [
            "Enter a number: 9564\n",
            "Sum of digits: 24\n"
          ]
        }
      ],
      "source": [
        "n = int(input('Enter a number: '))\n",
        "\n",
        "def add(n):\n",
        "  sum=0\n",
        "  if(n==0):\n",
        "    return 0\n",
        "  sum=n%10+add(n//10)\n",
        "  return(sum)\n",
        "\n",
        "print(\"Sum of digits:\",add(n))"
      ]
    },
    {
      "cell_type": "markdown",
      "source": [
        "###**22. Sum of first and last digits in agiven number**"
      ],
      "metadata": {
        "id": "UwPXetf1Yq_3"
      }
    },
    {
      "cell_type": "code",
      "source": [
        "a = int(input('Enter a number: '))\n",
        "\n",
        "last = a%10\n",
        "first = a\n",
        "\n",
        "while(first>=10):\n",
        "  first//=10\n",
        "\n",
        "print(\"Sum is\", first+last)"
      ],
      "metadata": {
        "colab": {
          "base_uri": "https://localhost:8080/"
        },
        "id": "dW4XFXobYYTz",
        "outputId": "a814c360-c301-4a3d-8e70-1d85a6372c2f"
      },
      "execution_count": 2,
      "outputs": [
        {
          "output_type": "stream",
          "name": "stdout",
          "text": [
            "Enter a number: 4125\n",
            "Sum is 9\n"
          ]
        }
      ]
    },
    {
      "cell_type": "markdown",
      "source": [
        "### **23. Program for convertion from binary number to decimal number**"
      ],
      "metadata": {
        "id": "b5ourH1VdIgG"
      }
    },
    {
      "cell_type": "code",
      "source": [
        "n = int(input('Enter a binary number: '))\n",
        "\n",
        "def decimal(x):\n",
        "  dec=0\n",
        "  i=0\n",
        "  while(x!=0):\n",
        "    rem=x%10\n",
        "    x=x//10\n",
        "    dec=dec+rem*pow(2,i)\n",
        "    i=i+1\n",
        "  return dec\n",
        "\n",
        "print(\"Decimal value is\", decimal(n))"
      ],
      "metadata": {
        "colab": {
          "base_uri": "https://localhost:8080/"
        },
        "id": "xBQO16A2dH0G",
        "outputId": "22fb033d-cba5-4f2f-c2c0-8a68d664e1a7"
      },
      "execution_count": 3,
      "outputs": [
        {
          "output_type": "stream",
          "name": "stdout",
          "text": [
            "Enter a binary number: 11011\n",
            "Decimal value is 27\n"
          ]
        }
      ]
    },
    {
      "cell_type": "markdown",
      "source": [
        "### **24. Program for sum of even numbers from 1 to 'n'**"
      ],
      "metadata": {
        "id": "x7sPnwLSd6RX"
      }
    },
    {
      "cell_type": "code",
      "source": [
        "n = int(input(\"Enter last or 'n' value: \"))\n",
        "sum = ((n//2)*((n//2)+1))\n",
        "print(\"Sum of even numbers is\", sum)"
      ],
      "metadata": {
        "colab": {
          "base_uri": "https://localhost:8080/"
        },
        "id": "XWGA6M3meQHP",
        "outputId": "e15ea389-3105-4c40-9347-4d51d3ef5572"
      },
      "execution_count": 4,
      "outputs": [
        {
          "output_type": "stream",
          "name": "stdout",
          "text": [
            "Enter last or 'n' value: 45\n",
            "Sum of even numbers is 506\n"
          ]
        }
      ]
    },
    {
      "cell_type": "markdown",
      "source": [
        "### **25. Program for read and print the line of sentence**"
      ],
      "metadata": {
        "id": "ZMmOZWICesYj"
      }
    },
    {
      "cell_type": "code",
      "source": [
        "x = str(input('Enter a sentence: '))\n",
        "print(\"Sentence is:\", x)"
      ],
      "metadata": {
        "colab": {
          "base_uri": "https://localhost:8080/"
        },
        "id": "AfKz52MRe4tn",
        "outputId": "c6ec36ef-6885-49bc-dd21-9ab6996f3bb0"
      },
      "execution_count": 5,
      "outputs": [
        {
          "output_type": "stream",
          "name": "stdout",
          "text": [
            "Enter a sentence: this is a python program\n",
            "Sentence is: this is a python program\n"
          ]
        }
      ]
    },
    {
      "cell_type": "markdown",
      "source": [
        "### **26. Program for comparison of 2 imput sentences are same or not**"
      ],
      "metadata": {
        "id": "zbufmnvTfPzL"
      }
    },
    {
      "cell_type": "code",
      "source": [
        "a = str(input('Enter a first sentence: '))\n",
        "b = str(input('Enter a second sentence: '))\n",
        "\n",
        "if(a==b):\n",
        "  print(\"Entered strings are equal\")\n",
        "else:\n",
        "  print(\"Entered strings are not equal\")"
      ],
      "metadata": {
        "colab": {
          "base_uri": "https://localhost:8080/"
        },
        "id": "AAbVEz9dfQTY",
        "outputId": "d6b5a85f-80c2-42a9-d5e3-474b5232ff4e"
      },
      "execution_count": 6,
      "outputs": [
        {
          "output_type": "stream",
          "name": "stdout",
          "text": [
            "Enter a first sentence: this is a python program\n",
            "Enter a second sentence: this is a program\n",
            "Entered strings are not equal\n"
          ]
        }
      ]
    },
    {
      "cell_type": "markdown",
      "source": [
        "###  **27. Program for finding length of given string**"
      ],
      "metadata": {
        "id": "tDeCKhnXgAvz"
      }
    },
    {
      "cell_type": "code",
      "source": [
        "a = str(input('Enter a string: '))\n",
        "length=len(a)\n",
        "print(length)"
      ],
      "metadata": {
        "colab": {
          "base_uri": "https://localhost:8080/"
        },
        "id": "1XLn14xJgBqU",
        "outputId": "330eef13-a8a3-448a-c616-e30c9ff48009"
      },
      "execution_count": 7,
      "outputs": [
        {
          "output_type": "stream",
          "name": "stdout",
          "text": [
            "Enter a string: this is a python programming language\n",
            "37\n"
          ]
        }
      ]
    },
    {
      "cell_type": "markdown",
      "source": [
        "### **28. Program for finding total number of upper and lower case letters in a given string**"
      ],
      "metadata": {
        "id": "yHYiGwxAgcCh"
      }
    },
    {
      "cell_type": "code",
      "source": [
        "ch = str(input('Enter a string: '))\n",
        "upper=0\n",
        "lower=0\n",
        "\n",
        "for i in range(len(ch)):\n",
        "  if(ch[i]>'A' and ch[i]<='Z'):\n",
        "    upper+=1\n",
        "  elif(ch[i]>'a' and ch[i]<='z'):\n",
        "    lower+=1\n",
        "\n",
        "print(\"Uppercase letters:\", upper)\n",
        "print(\"Lowercase letters:\", lower)"
      ],
      "metadata": {
        "colab": {
          "base_uri": "https://localhost:8080/"
        },
        "id": "AqnzYGptgc79",
        "outputId": "0a5fb09f-a541-451e-e3db-0e4df3d202bd"
      },
      "execution_count": 8,
      "outputs": [
        {
          "output_type": "stream",
          "name": "stdout",
          "text": [
            "Enter a string: This is a Python Programming Language\n",
            "Uppercase letters: 4\n",
            "Lowercase letters: 24\n"
          ]
        }
      ]
    },
    {
      "cell_type": "markdown",
      "source": [
        "### **29. Program for finding the length of given string without using 'STRLEN'**"
      ],
      "metadata": {
        "id": "9C8ZIleYhlhh"
      }
    },
    {
      "cell_type": "code",
      "source": [
        "a = str(input(\"Enter a string: \"))\n",
        "counter=0\n",
        "\n",
        "for i in a:\n",
        "  counter+=1\n",
        "\n",
        "print(\"String length is:\", counter)"
      ],
      "metadata": {
        "colab": {
          "base_uri": "https://localhost:8080/"
        },
        "id": "FWDG0pJYhmCs",
        "outputId": "f8d2c2fd-6b1d-4a8c-cff1-886d399a2c26"
      },
      "execution_count": 9,
      "outputs": [
        {
          "output_type": "stream",
          "name": "stdout",
          "text": [
            "Enter a string: This is an example python program\n",
            "String length is: 33\n"
          ]
        }
      ]
    },
    {
      "cell_type": "markdown",
      "source": [
        "### **30. Print the pattern**"
      ],
      "metadata": {
        "id": "xShc5fAHiJmm"
      }
    },
    {
      "cell_type": "code",
      "source": [
        "n = int(input(\"Enter number of rows: \"))\n",
        "\n",
        "for row in range(n):\n",
        "  for col in range(n):\n",
        "    if col==0 or row==(n-1) or row==col:\n",
        "      print(\"#\",end='')\n",
        "    else:\n",
        "      print(end=\" \")\n",
        "  print()"
      ],
      "metadata": {
        "colab": {
          "base_uri": "https://localhost:8080/"
        },
        "id": "VL7KUHcGiKK4",
        "outputId": "e987fde4-399d-470e-d943-b1437df5a35d"
      },
      "execution_count": 10,
      "outputs": [
        {
          "output_type": "stream",
          "name": "stdout",
          "text": [
            "Enter number of rows: 7\n",
            "#      \n",
            "##     \n",
            "# #    \n",
            "#  #   \n",
            "#   #  \n",
            "#    # \n",
            "#######\n"
          ]
        }
      ]
    }
  ]
}